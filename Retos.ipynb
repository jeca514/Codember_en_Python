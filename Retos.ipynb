{
 "cells": [
  {
   "cell_type": "code",
   "execution_count": 1,
   "metadata": {},
   "outputs": [],
   "source": [
    "message_01= 'message_01.txt'\n",
    "lista = {}\n",
    "with open(message_01) as archivo:\n",
    "    for linea in archivo:\n",
    "        palabras = linea.split()\n",
    "        for palabra in palabras:\n",
    "            if palabra in lista:\n",
    "                lista[palabra] += 1\n",
    "            else:\n",
    "                lista[palabra]=1     "
   ]
  },
  {
   "cell_type": "code",
   "execution_count": 2,
   "metadata": {},
   "outputs": [
    {
     "name": "stdout",
     "output_type": "stream",
     "text": [
      "murcielago15leon15jirafa15cebra6elefante15rinoceronte15hipopotamo15ardilla15mapache15zorro15lobo15oso15puma2jaguar14tigre10leopardo10gato12perro12caballo14vaca14toro14cerdo14oveja14cabra14gallina10pato10ganso10pavo10paloma10halcon11aguila11buho11colibri9canario8loro8tucan8pinguino7flamenco7\n"
     ]
    }
   ],
   "source": [
    "Codigo_01 = ''.join(map(lambda kv: f'{kv[0]}{kv[1]}', lista.items()))\n",
    "print(Codigo_01)"
   ]
  }
 ],
 "metadata": {
  "kernelspec": {
   "display_name": "Python 3",
   "language": "python",
   "name": "python3"
  },
  "language_info": {
   "codemirror_mode": {
    "name": "ipython",
    "version": 3
   },
   "file_extension": ".py",
   "mimetype": "text/x-python",
   "name": "python",
   "nbconvert_exporter": "python",
   "pygments_lexer": "ipython3",
   "version": "3.11.5"
  }
 },
 "nbformat": 4,
 "nbformat_minor": 2
}
