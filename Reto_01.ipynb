{
 "cells": [
  {
   "cell_type": "markdown",
   "metadata": {},
   "source": [
    "# Reto **message_01.txt**\n",
    "Mi solucion del primer reto de **Codember 2023**"
   ]
  },
  {
   "cell_type": "code",
   "execution_count": 2,
   "metadata": {},
   "outputs": [],
   "source": [
    "# primero cree el diccionario donde cada llave sera la palabra y el item el numero de veces que aparece la palabra\n",
    "message_01 = open(\"message_01.txt\")  # guarde en una variable el txt del reto\n",
    "dictp = {}\n",
    "\n",
    "palabras = message_01.read()  # guarde en una variable el texto del reto\n",
    "# Modifique palabras y la converti en un lista que contiene  cada palabra con la funcion split()\n",
    "palabras = palabras.split()\n",
    "\n",
    "for palabra in palabras:  # un for que toma cada palabra de la lista y verifica si esta en el diccionario\n",
    "    if palabra in dictp:  # si ya existe la llave la agrega a la cuenta\n",
    "        dictp[palabra] += 1\n",
    "    else:\n",
    "        # si no existe crea la nueva llave y al item le da valor 1\n",
    "        dictp[palabra] = 1"
   ]
  },
  {
   "cell_type": "code",
   "execution_count": 3,
   "metadata": {},
   "outputs": [
    {
     "name": "stdout",
     "output_type": "stream",
     "text": [
      "murcielago15leon15jirafa15cebra6elefante15rinoceronte15hipopotamo15ardilla15mapache15zorro15lobo15oso15puma2jaguar14tigre10leopardo10gato12perro12caballo14vaca14toro14cerdo14oveja14cabra14gallina10pato10ganso10pavo10paloma10halcon11aguila11buho11colibri9canario8loro8tucan8pinguino7flamenco7\n"
     ]
    }
   ],
   "source": [
    "# Creo la clave del reto usando la funcion map() itera sobre los elemntos de un lista, tupla o dict en este caso\n",
    "# la funcion lamba combierte en srt y unidos los elmentos del array dictp.items(), que es un array de cada pareja kv (llave valor)\n",
    "Codigo_01 = ''.join(map(lambda kv: f'{kv[0]}{kv[1]}', dictp.items()))\n",
    "print(Codigo_01)"
   ]
  }
 ],
 "metadata": {
  "kernelspec": {
   "display_name": "Python 3",
   "language": "python",
   "name": "python3"
  },
  "language_info": {
   "codemirror_mode": {
    "name": "ipython",
    "version": 3
   },
   "file_extension": ".py",
   "mimetype": "text/x-python",
   "name": "python",
   "nbconvert_exporter": "python",
   "pygments_lexer": "ipython3",
   "version": "3.11.5"
  }
 },
 "nbformat": 4,
 "nbformat_minor": 2
}
