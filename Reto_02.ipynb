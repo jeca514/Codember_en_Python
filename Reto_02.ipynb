{
 "cells": [
  {
   "cell_type": "code",
   "execution_count": 16,
   "metadata": {},
   "outputs": [],
   "source": [
    "# cree una funcion mini_compilador que reciba un mensaje y lo decodifiqua\n",
    "def mini_compilador(Mensaje):\n",
    "    mensaje_preliminar = 0 # variable que guarda el valor del numero que se esta formando\n",
    "    mensaje_final = \"\" # variable que guarda el mensaje final\n",
    "    for i in Mensaje: # recorre el mensaje\n",
    "        if i == \"#\": # si el caracter es # entonces el mensaje_preliminar se le suma 1\n",
    "            mensaje_preliminar += 1 \n",
    "        elif i == \"@\": # si el caracter es @ entonces el mensaje_preliminar se le resta 1\n",
    "            mensaje_preliminar -= 1\n",
    "        elif i == \"*\": # si el caracter es * entonces el mensaje_preliminar se multiplica por si mismo\n",
    "            mensaje_preliminar **= 2\n",
    "        elif i == \"&\": # si el caracter es & entonces el mensaje_final se le agrega el mensaje_preliminar\n",
    "            mensaje_final += str(mensaje_preliminar) # se convierte a string para que se pueda concatenar\n",
    "\n",
    "    return mensaje_final\n",
    "\n"
   ]
  },
  {
   "cell_type": "code",
   "execution_count": 19,
   "metadata": {},
   "outputs": [
    {
     "name": "stdout",
     "output_type": "stream",
     "text": [
      "submit 024899455\n"
     ]
    }
   ],
   "source": [
    "mensaje = open(\"message_02.txt\")\n",
    "print(f\"submit {mini_compilador(mensaje.read())}\") # se genera el mensaje para enviarlo como respuesta\n"
   ]
  }
 ],
 "metadata": {
  "kernelspec": {
   "display_name": "Python 3",
   "language": "python",
   "name": "python3"
  },
  "language_info": {
   "codemirror_mode": {
    "name": "ipython",
    "version": 3
   },
   "file_extension": ".py",
   "mimetype": "text/x-python",
   "name": "python",
   "nbconvert_exporter": "python",
   "pygments_lexer": "ipython3",
   "version": "3.11.5"
  }
 },
 "nbformat": 4,
 "nbformat_minor": 2
}
