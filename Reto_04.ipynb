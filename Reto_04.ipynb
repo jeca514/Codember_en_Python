{
 "cells": [
  {
   "cell_type": "markdown",
   "metadata": {},
   "source": [
    "# Prueba de cual seria la forma mas rapida de crear la unchecksum de manera mas rapida\n",
    "parece poca la diferencia, pero pues la forma que encontre fue usando set"
   ]
  },
  {
   "cell_type": "code",
   "execution_count": 1,
   "metadata": {},
   "outputs": [],
   "source": [
    "import time"
   ]
  },
  {
   "cell_type": "code",
   "execution_count": 2,
   "metadata": {},
   "outputs": [],
   "source": [
    "def no_repetidos(cadena):\n",
    "    inicio = time.time()\n",
    "    cadena_no_repetida = \"\"\n",
    "    for i in cadena:\n",
    "        if i not in cadena_no_repetida:\n",
    "            cadena_no_repetida += i\n",
    "\n",
    "    fin = time.time()\n",
    "    print(f\"Tiempo de ejecución: {fin - inicio:.10f} segundos\")\n",
    "    return cadena_no_repetida"
   ]
  },
  {
   "cell_type": "code",
   "execution_count": 3,
   "metadata": {},
   "outputs": [],
   "source": [
    "def no_repetidosv2(cadena):\n",
    "    inicio = time.time()\n",
    "    unicos_set = set()\n",
    "    cadena_no_repetida = \"\"\n",
    "    for caracter in cadena:\n",
    "        if caracter not in unicos_set:\n",
    "            unicos_set.add(caracter)\n",
    "            cadena_no_repetida += caracter\n",
    "    fin = time.time()\n",
    "    print(f\"Tiempo de ejecución: {fin - inicio:.10f} segundos\")\n",
    "    return cadena_no_repetida"
   ]
  },
  {
   "cell_type": "code",
   "execution_count": 4,
   "metadata": {},
   "outputs": [
    {
     "name": "stdout",
     "output_type": "stream",
     "text": [
      "Tiempo de ejecución: 4.4283671379 segundos\n",
      "ab\n",
      "Tiempo de ejecución: 4.2745890617 segundos\n",
      "ab\n"
     ]
    }
   ],
   "source": [
    "# prueba de cadena de 1000000 caracteres muy variados para comparar tiempos\n",
    "cadena = \"a\" * 59000000 + \"b\" * 59000000\n",
    "print(no_repetidos(cadena))\n",
    "print(no_repetidosv2(cadena))"
   ]
  },
  {
   "cell_type": "markdown",
   "metadata": {},
   "source": [
    "# Creacion del codigo para el reto en limpio"
   ]
  },
  {
   "cell_type": "code",
   "execution_count": 11,
   "metadata": {},
   "outputs": [],
   "source": [
    "# función de caracteres no repetidos\n",
    "def caracteres_no_repetidos(cadena):\n",
    "    unicos_set = set()\n",
    "    cadena_no_repetida = \"\"\n",
    "    for caracter in cadena:\n",
    "        if cadena.count(caracter) == 1:\n",
    "            unicos_set.add(caracter)\n",
    "            cadena_no_repetida += caracter\n",
    "    return cadena_no_repetida"
   ]
  },
  {
   "cell_type": "code",
   "execution_count": 6,
   "metadata": {},
   "outputs": [],
   "source": [
    "# funcion que separa el codigo alfanumerico del posible checksum\n",
    "def separar_codigo(cadena):\n",
    "    codigo_alfanumerico , posible_checksum = cadena.strip().split(\"-\")\n",
    "    return codigo_alfanumerico, posible_checksum"
   ]
  },
  {
   "cell_type": "code",
   "execution_count": 7,
   "metadata": {},
   "outputs": [],
   "source": [
    "# funcion que busca el numero de codgo alfanumerico que cumple con el checksum del txt\n",
    "def buscar_numero_de_checksum_correctos(documento):\n",
    "    with open(documento, \"r\") as codigos:\n",
    "        lista_codigos = codigos.readlines()\n",
    "    contador = 0\n",
    "    for codigo in lista_codigos:\n",
    "        codigo_alfanumerico, checksum = separar_codigo(codigo)\n",
    "        if caracteres_no_repetidos(codigo_alfanumerico) == checksum:\n",
    "            contador += 1\n",
    "    return contador\n"
   ]
  },
  {
   "cell_type": "code",
   "execution_count": 8,
   "metadata": {},
   "outputs": [],
   "source": [
    "# funcion que buca el codigo alfanumerico que cumple  deseado\n",
    "def buscar_numero_de_checksum_desado(documento,numerodeseado):\n",
    "    with open(documento, \"r\") as codigos:\n",
    "        lista_codigos = codigos.readlines()\n",
    "    contador = 0\n",
    "    for codigo in lista_codigos:\n",
    "        codigo_alfanumerico, checksum = separar_codigo(codigo)\n",
    "        \n",
    "        if caracteres_no_repetidos(codigo_alfanumerico) == checksum:\n",
    "            contador += 1\n",
    "            if contador == int(numerodeseado):\n",
    "                return checksum\n"
   ]
  },
  {
   "cell_type": "code",
   "execution_count": 13,
   "metadata": {},
   "outputs": [
    {
     "name": "stdout",
     "output_type": "stream",
     "text": [
      "submit O2hrQ\n"
     ]
    }
   ],
   "source": [
    "texto = \"files_quarantine.txt\"\n",
    "print(f\"submit {buscar_numero_de_checksum_desado(texto, 33)}\")"
   ]
  }
 ],
 "metadata": {
  "kernelspec": {
   "display_name": "Python 3",
   "language": "python",
   "name": "python3"
  },
  "language_info": {
   "codemirror_mode": {
    "name": "ipython",
    "version": 3
   },
   "file_extension": ".py",
   "mimetype": "text/x-python",
   "name": "python",
   "nbconvert_exporter": "python",
   "pygments_lexer": "ipython3",
   "version": "3.11.5"
  }
 },
 "nbformat": 4,
 "nbformat_minor": 2
}
