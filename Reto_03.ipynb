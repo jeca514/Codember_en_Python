{
 "cells": [
  {
   "cell_type": "code",
   "execution_count": 1,
   "metadata": {},
   "outputs": [],
   "source": [
    "# funcion que separa politica de contraseña y contraseña\n",
    "def separar_politica_contraseña(string):\n",
    "    politica, contraseña = string.split(\": \") # separa la politica de la contraseña\n",
    "    return politica, contraseña"
   ]
  },
  {
   "cell_type": "code",
   "execution_count": 2,
   "metadata": {},
   "outputs": [],
   "source": [
    "# funcion que toma un string y devuelve un numero maximo y minimo y la clave\n",
    "def max_min_clave(string):\n",
    "    # separa el numero maximo y minimo de la clave\n",
    "    max_min, clave = string.split(\" \")\n",
    "    # separa el numero minimo y maximo\n",
    "    minimo, maximo = map(int, max_min.split(\"-\"))\n",
    "    # devuelve el numero maximo, minimo y la clave\n",
    "    return int(maximo), int(minimo), clave"
   ]
  },
  {
   "cell_type": "code",
   "execution_count": 3,
   "metadata": {},
   "outputs": [],
   "source": [
    "# funcion que dado un rango de numeros y una letra clave, devuelve True si la contraseña cumple con la politica\n",
    "def cumple_politica(num_max, num_min, clave, contraseña):\n",
    "    return num_min <= contraseña.count(clave) <= num_max # devuelve True si la contraseña cumple con la politica"
   ]
  },
  {
   "cell_type": "code",
   "execution_count": 4,
   "metadata": {},
   "outputs": [],
   "source": [
    "''' \n",
    "funcion que dado un .txt con las politicas y contraseñas en cada linea, \n",
    "devuelve el numero de contraseñas que cumplen con la politica y el numero de contraseñas que no cumplen con la politica\n",
    "'''\n",
    "\n",
    "\n",
    "def numero_contraseñas_validas(archivo):\n",
    "    with open(archivo, \"r\") as lista_contraseñas:\n",
    "        # lee el archivo y lo convierte en una lista\n",
    "        lista = lista_contraseñas.readlines()\n",
    "    contadorf = 0  # contador de contraseñas que no cumplen con la politica\n",
    "    contadort = 0  # contador de contraseñas que cumplen con la politica\n",
    "    for i in lista: # recorre la lista\n",
    "        politica, contraseña = separar_politica_contraseña(\n",
    "            i)  # separa la politica de la contraseña\n",
    "        # separa el numero maximo y minimo y la clave\n",
    "        maximo, minimo, clave = max_min_clave(politica)\n",
    "        # suma 1 al contador de contraseñas que cumplen con la politica\n",
    "        if cumple_politica(maximo, minimo, clave, contraseña):\n",
    "            contadort += 1\n",
    "        else:  # suma 1 al contador de contraseñas que no cumplen con la politica\n",
    "            contadorf += 1\n",
    "    return (f\"el numero de contraseñas que cumplen con la politica es {contadort} \"\n",
    "            f\"y el numero de contraseñas que no cumplen con la politica es {contadorf}\")"
   ]
  },
  {
   "cell_type": "code",
   "execution_count": 5,
   "metadata": {},
   "outputs": [
    {
     "name": "stdout",
     "output_type": "stream",
     "text": [
      "el numero de contraseñas que cumplen con la politica es 21 y el numero de contraseñas que no cumplen con la politica es 479\n"
     ]
    }
   ],
   "source": [
    "# prueba de la funcion con el archivo encryption_policies.txt\n",
    "texto = \"encryption_policies.txt\"\n",
    "print(numero_contraseñas_validas(texto))"
   ]
  },
  {
   "cell_type": "code",
   "execution_count": 6,
   "metadata": {},
   "outputs": [],
   "source": [
    "'''\n",
    "funcion que devuelve la contrseña numero 42 que no cumple con la politica \n",
    "'''\n",
    "\n",
    "\n",
    "def contraseña_42(archivo):\n",
    "    with open(archivo, \"r\") as lista_contraseñas:  # abre el archivo\n",
    "        # lee el archivo y lo convierte en una lista\n",
    "        lista = lista_contraseñas.readlines()\n",
    "    contador = 0  # contador de contraseñas que no cumplen con la politica\n",
    "    for i in lista:\n",
    "        politica, contraseña = separar_politica_contraseña(\n",
    "            i)  # separa la politica de la contraseña\n",
    "        # separa el numero maximo y minimo y la clave\n",
    "        maximo, minimo, clave = max_min_clave(politica)\n",
    "        # suma 1 al contador de contraseñas que no cumplen con la politica\n",
    "        if not cumple_politica(maximo, minimo, clave, contraseña):\n",
    "            contador += 1\n",
    "            if contador == 42:  # si el contador es 42 devuelve la contraseña que no cumple con la politica\n",
    "                return contraseña"
   ]
  },
  {
   "cell_type": "code",
   "execution_count": 7,
   "metadata": {},
   "outputs": [
    {
     "name": "stdout",
     "output_type": "stream",
     "text": [
      "submit bgamidqewtbus\n",
      "\n"
     ]
    }
   ],
   "source": [
    "# solucion reto 3\n",
    "print(f\"submit {contraseña_42(texto)}\")\n"
   ]
  }
 ],
 "metadata": {
  "kernelspec": {
   "display_name": "Python 3",
   "language": "python",
   "name": "python3"
  },
  "language_info": {
   "codemirror_mode": {
    "name": "ipython",
    "version": 3
   },
   "file_extension": ".py",
   "mimetype": "text/x-python",
   "name": "python",
   "nbconvert_exporter": "python",
   "pygments_lexer": "ipython3",
   "version": "3.11.5"
  }
 },
 "nbformat": 4,
 "nbformat_minor": 2
}
